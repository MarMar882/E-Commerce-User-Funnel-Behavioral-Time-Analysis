{
 "cells": [
  {
   "cell_type": "code",
   "execution_count": null,
   "id": "460ae89d",
   "metadata": {},
   "outputs": [
    {
     "ename": "",
     "evalue": "",
     "output_type": "error",
     "traceback": [
      "\u001b[1;31mRunning cells with 'Python 3.13.1' requires the ipykernel package.\n",
      "\u001b[1;31mInstall 'ipykernel' into the Python environment. \n",
      "\u001b[1;31mCommand: '/opt/homebrew/bin/python3 -m pip install ipykernel -U --user --force-reinstall'"
     ]
    }
   ],
   "source": [
    "# Import necessary libraries\n",
    "import pandas as pd\n",
    "import matplotlib.pyplot as plt\n",
    "import seaborn as sns\n",
    "import os\n",
    "\n",
    "# Load a sample of the dataset (200,000 rows from each month for faster performance)\n",
    "df_oct = pd.read_csv(\"2019-Oct.csv\", parse_dates=['event_time'], nrows=200000)\n",
    "df_nov = pd.read_csv(\"2019-Nov.csv\", parse_dates=['event_time'], nrows=200000)\n",
    "df_all = pd.concat([df_oct, df_nov], ignore_index=True)\n",
    "\n",
    "# Display basic shape and a sample of the data\n",
    "print(f\"Shape of combined data: {df_all.shape}\")\n",
    "df_all.head()\n"
   ]
  },
  {
   "cell_type": "code",
   "execution_count": null,
   "id": "3a128ce3",
   "metadata": {},
   "outputs": [],
   "source": [
    "# Basic information about the dataset\n",
    "df_all.info()\n",
    "\n",
    "# Summary statistics for numerical columns\n",
    "df_all.describe()\n",
    "\n",
    "# List all columns\n",
    "df_all.columns\n"
   ]
  },
  {
   "cell_type": "code",
   "execution_count": null,
   "id": "bb1da495",
   "metadata": {},
   "outputs": [],
   "source": [
    "# Check for missing values\n",
    "missing = df_all.isnull().sum()\n",
    "missing[missing > 0].sort_values(ascending=False)\n"
   ]
  },
  {
   "cell_type": "code",
   "execution_count": null,
   "id": "f44fb73d",
   "metadata": {},
   "outputs": [],
   "source": [
    "# Analyze the distribution of event types (view, cart, purchase)\n",
    "event_counts = df_all['event_type'].value_counts()\n",
    "\n",
    "# Plot event type distribution\n",
    "event_counts.plot(kind='bar', figsize=(8,5))\n",
    "plt.title(\"Distribution of Event Types\")\n",
    "plt.xlabel(\"Event Type\")\n",
    "plt.ylabel(\"Count\")\n",
    "plt.grid(axis='y', linestyle='--', alpha=0.5)\n",
    "plt.show()\n",
    "\n",
    "# Display event type percentages\n",
    "print(event_counts / event_counts.sum() * 100)\n"
   ]
  },
  {
   "cell_type": "code",
   "execution_count": null,
   "id": "8e85fd34",
   "metadata": {},
   "outputs": [],
   "source": [
    "# Extract hour of day and day of week from event_time\n",
    "df_all['hour'] = df_all['event_time'].dt.hour\n",
    "df_all['day_of_week'] = df_all['event_time'].dt.dayofweek\n"
   ]
  },
  {
   "cell_type": "code",
   "execution_count": null,
   "id": "32f04f09",
   "metadata": {},
   "outputs": [],
   "source": [
    "# Plot number of events per hour\n",
    "plt.figure(figsize=(10,6))\n",
    "sns.countplot(data=df_all, x='hour', palette='viridis')\n",
    "plt.title(\"Events per Hour\")\n",
    "plt.xlabel(\"Hour of the Day\")\n",
    "plt.ylabel(\"Count of Events\")\n",
    "plt.grid(axis='y', linestyle='--', alpha=0.5)\n",
    "plt.show()\n"
   ]
  },
  {
   "cell_type": "code",
   "execution_count": null,
   "id": "d40b81dd",
   "metadata": {},
   "outputs": [],
   "source": [
    "# Plot number of events per day of the week\n",
    "plt.figure(figsize=(10,6))\n",
    "sns.countplot(data=df_all, x='day_of_week', palette='magma')\n",
    "plt.title(\"Events per Day of Week\")\n",
    "plt.xlabel(\"Day of Week (0=Monday)\")\n",
    "plt.ylabel(\"Count of Events\")\n",
    "plt.grid(axis='y', linestyle='--', alpha=0.5)\n",
    "plt.show()\n"
   ]
  },
  {
   "cell_type": "code",
   "execution_count": null,
   "id": "d00c8a5a",
   "metadata": {},
   "outputs": [],
   "source": [
    "# Analyze the top 10 most frequent product categories\n",
    "df_all['category_code'].value_counts().head(10).plot(kind='bar', figsize=(10,5))\n",
    "plt.title(\"Top 10 Most Frequent Categories\")\n",
    "plt.xlabel(\"Category\")\n",
    "plt.ylabel(\"Count\")\n",
    "plt.grid(axis='y', linestyle='--', alpha=0.5)\n",
    "plt.xticks(rotation=45)\n",
    "plt.show()\n"
   ]
  }
 ],
 "metadata": {
  "kernelspec": {
   "display_name": "Python 3",
   "language": "python",
   "name": "python3"
  },
  "language_info": {
   "name": "python",
   "version": "3.13.1"
  }
 },
 "nbformat": 4,
 "nbformat_minor": 5
}
